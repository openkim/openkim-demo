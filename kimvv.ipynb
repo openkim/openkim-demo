{
 "cells": [
  {
   "cell_type": "markdown",
   "id": "2002057b",
   "metadata": {},
   "source": [
    "Import the Test Drivers (computational protocols) you wish to use and other modules we will use."
   ]
  },
  {
   "cell_type": "code",
   "execution_count": null,
   "id": "3367101f",
   "metadata": {},
   "outputs": [],
   "source": [
    "from kimvv import EquilibriumCrystalStructure, ElasticConstantsCrystal\n",
    "from ase.build import bulk\n",
    "from json import dumps"
   ]
  },
  {
   "cell_type": "markdown",
   "id": "081190b3",
   "metadata": {},
   "source": [
    "Instantiate the class representing the Test Driver with an interatomic potential. If a string is passed when instantiating the class, it is assumed to be a KIM model name (this is an example model packaged with most builds of the KIM API)"
   ]
  },
  {
   "cell_type": "code",
   "execution_count": null,
   "id": "054bf1c3",
   "metadata": {},
   "outputs": [],
   "source": [
    "relax = EquilibriumCrystalStructure('LennardJones_Ar')"
   ]
  },
  {
   "cell_type": "markdown",
   "id": "35abfa09",
   "metadata": {},
   "source": [
    "To run the actual calculation, call the object you instantiated with a crystal structure. Every Test Driver is able to take an Atoms object."
   ]
  },
  {
   "cell_type": "code",
   "execution_count": null,
   "id": "6a96b960",
   "metadata": {},
   "outputs": [],
   "source": [
    "relax(bulk('Ar','fcc',5.0))"
   ]
  },
  {
   "cell_type": "markdown",
   "id": "43b01776",
   "metadata": {},
   "source": [
    "Access the list of dictionaries containing the material properties reported by the Test Driver. `EquilibriumCrystalStructure` reports the crystal structure, binding energy, and mass density of the material."
   ]
  },
  {
   "cell_type": "code",
   "execution_count": null,
   "id": "a65eff61",
   "metadata": {},
   "outputs": [],
   "source": [
    "print(dumps(relax.property_instances,indent=2))"
   ]
  },
  {
   "cell_type": "markdown",
   "id": "b3ba3048",
   "metadata": {},
   "source": [
    "All Test Drivers besides `EquilibriumCrystalStructure` expect to bepassed a relaxed structure. This can be either a relaxed Atoms object, or a results dictionary from an `EquilibriumCrystalStructure` run. Any element of the list returned by `EquilibriumCrystalStructure` will do, as they all contain a description of the crystal structure."
   ]
  },
  {
   "cell_type": "code",
   "execution_count": null,
   "id": "32137701",
   "metadata": {},
   "outputs": [],
   "source": [
    "elastic = ElasticConstantsCrystal('LennardJones_Ar')\n",
    "elastic(relax.property_instances[0])\n",
    "print(dumps(elastic.property_instances,indent=2))"
   ]
  },
  {
   "cell_type": "markdown",
   "id": "63bf821a",
   "metadata": {},
   "source": [
    "You can also use a generic ASE calculator (as long as the Test Driver only uses ASE for calculations,\n",
    "i.e. this will not work for Test Drivers that do MD using LAMMPS)\n",
    "In this case you don't even need kimpy or the KIM API installed."
   ]
  },
  {
   "cell_type": "code",
   "execution_count": null,
   "id": "ed8872e1",
   "metadata": {},
   "outputs": [],
   "source": [
    "from ase.calculators.lj import LennardJones\n",
    "relax = EquilibriumCrystalStructure(LennardJones(sigma=3.4,epsilon=0.0104,rc=8.15))\n",
    "relax(bulk('Ar','fcc',5.0))"
   ]
  }
 ],
 "metadata": {
  "kernelspec": {
   "display_name": "Python 3",
   "language": "python",
   "name": "python3"
  },
  "language_info": {
   "codemirror_mode": {
    "name": "ipython",
    "version": 3
   },
   "file_extension": ".py",
   "mimetype": "text/x-python",
   "name": "python",
   "nbconvert_exporter": "python",
   "pygments_lexer": "ipython3",
   "version": "3.10.12"
  }
 },
 "nbformat": 4,
 "nbformat_minor": 5
}
