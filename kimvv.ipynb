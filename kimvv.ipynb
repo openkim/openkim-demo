{
 "cells": [
  {
   "cell_type": "markdown",
   "id": "2f9842f9",
   "metadata": {},
   "source": [
    "# Basic usage example:\n",
    "Computing elastic constants for FCC argon using an example KIM potential"
   ]
  },
  {
   "cell_type": "code",
   "execution_count": null,
   "id": "11f7e95f",
   "metadata": {},
   "outputs": [],
   "source": [
    "from kimvv import ElasticConstantsCrystal\n",
    "from ase.build import bulk\n",
    "from json import dumps"
   ]
  },
  {
   "cell_type": "markdown",
   "id": "85dce55d",
   "metadata": {},
   "source": [
    "The Test Driver must be instantiated with an ASE Calculator object or a string indicating a KIM model name"
   ]
  },
  {
   "cell_type": "code",
   "execution_count": null,
   "id": "baba541b",
   "metadata": {},
   "outputs": [],
   "source": [
    "elast = ElasticConstantsCrystal('LennardJones_Ar')"
   ]
  },
  {
   "cell_type": "markdown",
   "id": "0bff0873",
   "metadata": {},
   "source": [
    "To perform the computation, we will call the Test Driver object we just instantiated. The first argument to most Test Drivers is the crystal structure to perform the computation on. To see an explanation of the calculation and a description of the additonal arguments, use `.printdoc()`"
   ]
  },
  {
   "cell_type": "code",
   "execution_count": null,
   "id": "c7f9ac2e",
   "metadata": {},
   "outputs": [],
   "source": [
    "elast.printdoc()"
   ]
  },
  {
   "cell_type": "markdown",
   "id": "8c69e916",
   "metadata": {},
   "source": [
    "For the sake of speed, let's compute the elastic constants with the \"stress-condensed\" method, instead of the default robust computation loop. The crystal structure can be specified as an Atoms object. Any dependencies (e.g. relaxing the crystal structure with EquilibriumCrystalStructure) are automatically run.\n"
   ]
  },
  {
   "cell_type": "code",
   "execution_count": null,
   "id": "9b425483",
   "metadata": {},
   "outputs": [],
   "source": [
    "atoms = bulk(\"Ar\", \"fcc\", 5.0)\n",
    "results = elast(atoms, method=\"stress-condensed\")"
   ]
  },
  {
   "cell_type": "markdown",
   "id": "b59e730c",
   "metadata": {},
   "source": [
    "Each Test Driver computes a list of one or more dictionaries, each defining a material property in the format specified by the KIM Properties Framework. The name of the property is in the \"property-id\" key. See https://openkim.org/properties for the definition of each property."
   ]
  },
  {
   "cell_type": "code",
   "execution_count": null,
   "id": "9525e258",
   "metadata": {},
   "outputs": [],
   "source": [
    "print(dumps(results, indent=2))"
   ]
  },
  {
   "cell_type": "markdown",
   "id": "9bde12ea",
   "metadata": {},
   "source": [
    "# Usage example 2 #\n",
    "Getting the anisotropic pressure-volume curve of HCP Ag using a non-KIM ASE Calculator and saving the output files"
   ]
  },
  {
   "cell_type": "code",
   "execution_count": null,
   "id": "de94f527",
   "metadata": {},
   "outputs": [],
   "source": [
    "from kimvv import CrystalStructureAndEnergyVsPressure\n",
    "from ase.build import bulk\n",
    "from ase.calculators.emt import EMT\n",
    "from json import dumps"
   ]
  },
  {
   "cell_type": "markdown",
   "id": "6cbb8af7",
   "metadata": {},
   "source": [
    "Instead of a KIM model name, let's instantiate the Test Driver with a different ASE calculator"
   ]
  },
  {
   "cell_type": "code",
   "execution_count": null,
   "id": "06c4e8c7",
   "metadata": {},
   "outputs": [],
   "source": [
    "scan = CrystalStructureAndEnergyVsPressure(EMT())"
   ]
  },
  {
   "cell_type": "markdown",
   "id": "d4020849",
   "metadata": {},
   "source": [
    "Read the documentation"
   ]
  },
  {
   "cell_type": "code",
   "execution_count": null,
   "id": "3387a377",
   "metadata": {},
   "outputs": [],
   "source": [
    "scan.printdoc()"
   ]
  },
  {
   "cell_type": "markdown",
   "id": "3f92b618",
   "metadata": {},
   "source": [
    "The default volume range of 0.25-4.0 will take a long time to scan. Let's do a much smaller range"
   ]
  },
  {
   "cell_type": "code",
   "execution_count": null,
   "id": "089c9a77",
   "metadata": {},
   "outputs": [],
   "source": [
    "atoms = bulk(\"Ag\", \"hcp\", 2.92)\n",
    "results = scan(\n",
    "    atoms, min_fractional_volume=0.98, max_fractional_volume=1.02\n",
    ")"
   ]
  },
  {
   "cell_type": "markdown",
   "id": "bc61d90b",
   "metadata": {},
   "source": [
    "In addition to accessing the results as a Python dictionary, you can save them to a file in .edn format. This is especially useful if the Test Driver produces auxiliary files, like the pressure scan does. All auxiliary files will be written to the parent directory of the path you specified."
   ]
  },
  {
   "cell_type": "code",
   "execution_count": null,
   "id": "743d0d9c",
   "metadata": {},
   "outputs": [],
   "source": [
    "scan.write_property_instances_to_file(\"scan_output/results.edn\")"
   ]
  }
 ],
 "metadata": {
  "kernelspec": {
   "display_name": "Python 3",
   "language": "python",
   "name": "python3"
  },
  "language_info": {
   "codemirror_mode": {
    "name": "ipython",
    "version": 3
   },
   "file_extension": ".py",
   "mimetype": "text/x-python",
   "name": "python",
   "nbconvert_exporter": "python",
   "pygments_lexer": "ipython3",
   "version": "3.10.12"
  }
 },
 "nbformat": 4,
 "nbformat_minor": 5
}
